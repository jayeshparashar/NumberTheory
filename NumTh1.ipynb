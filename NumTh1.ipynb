{
 "cells": [
  {
   "cell_type": "code",
   "execution_count": 1,
   "metadata": {},
   "outputs": [],
   "source": [
    "# lets check some integer numbers\n",
    "from qiskit import QuantumCircuit, QuantumRegister, ClassicalRegister, Aer, execute\n",
    "from qiskit.visualization import plot_histogram\n",
    "import numpy as np"
   ]
  },
  {
   "cell_type": "markdown",
   "metadata": {},
   "source": [
    "given a binary number that is a string of 0's and 1's, find if the number of 1s in this string is even or odd, it is not about the value of binary number in decimal system as that could be odd even when number of 1's in string for example 0011 has two 1s but the value of this binary number is '3' that is a odd number."
   ]
  },
  {
   "cell_type": "code",
   "execution_count": 8,
   "metadata": {},
   "outputs": [
    {
     "data": {
      "text/html": [
       "<pre style=\"word-wrap: normal;white-space: pre;background: #fff0;line-height: 1.1;font-family: &quot;Courier New&quot;,Courier,monospace\">     ┌───┐                            \n",
       "q_0: ┤ X ├──■─────────────────────────\n",
       "     ├───┤  │                         \n",
       "q_1: ┤ X ├──┼────■────────────────────\n",
       "     └───┘  │    │                    \n",
       "q_2: ───────┼────┼────■───────────────\n",
       "     ┌───┐  │    │    │               \n",
       "q_3: ┤ X ├──┼────┼────┼────■──────────\n",
       "     └───┘  │    │    │    │          \n",
       "q_4: ───────┼────┼────┼────┼────■─────\n",
       "            │    │    │    │    │     \n",
       "q_5: ───────┼────┼────┼────┼────┼─────\n",
       "          ┌─┴─┐┌─┴─┐┌─┴─┐┌─┴─┐┌─┴─┐┌─┐\n",
       "q_6: ─────┤ X ├┤ X ├┤ X ├┤ X ├┤ X ├┤M├\n",
       "          └───┘└───┘└───┘└───┘└───┘└╥┘\n",
       "  c: ═══════════════════════════════╩═\n",
       "                                      </pre>"
      ],
      "text/plain": [
       "     ┌───┐                            \n",
       "q_0: ┤ X ├──■─────────────────────────\n",
       "     ├───┤  │                         \n",
       "q_1: ┤ X ├──┼────■────────────────────\n",
       "     └───┘  │    │                    \n",
       "q_2: ───────┼────┼────■───────────────\n",
       "     ┌───┐  │    │    │               \n",
       "q_3: ┤ X ├──┼────┼────┼────■──────────\n",
       "     └───┘  │    │    │    │          \n",
       "q_4: ───────┼────┼────┼────┼────■─────\n",
       "            │    │    │    │    │     \n",
       "q_5: ───────┼────┼────┼────┼────┼─────\n",
       "          ┌─┴─┐┌─┴─┐┌─┴─┐┌─┴─┐┌─┴─┐┌─┐\n",
       "q_6: ─────┤ X ├┤ X ├┤ X ├┤ X ├┤ X ├┤M├\n",
       "          └───┘└───┘└───┘└───┘└───┘└╥┘\n",
       "  c: ═══════════════════════════════╩═\n",
       "                                      "
      ]
     },
     "execution_count": 8,
     "metadata": {},
     "output_type": "execute_result"
    }
   ],
   "source": [
    "#Let's create a uantum circuit to find number of 1's in a given binary string \n",
    "\n",
    "N = 5\n",
    "Num = N + 1  # target qubit that we will measure \n",
    "\n",
    "qc_eo = QuantumCircuit(Num+1, 1)\n",
    "\n",
    "# initialze with value 00111\n",
    "qc_eo.x(0)\n",
    "qc_eo.x(1)\n",
    "qc_eo.x(3)\n",
    "\n",
    "# we do not know the number\n",
    "for i in range(Num-1) :\n",
    "    qc_eo.cx(i, Num)\n",
    "\n",
    "qc_eo.measure(Num, 0)\n",
    "qc_eo.draw()"
   ]
  },
  {
   "cell_type": "code",
   "execution_count": 9,
   "metadata": {},
   "outputs": [
    {
     "data": {
      "image/png": "[encoded data removed]",
      "text/plain": [
       "<Figure size 504x360 with 1 Axes>"
      ]
     },
     "execution_count": 9,
     "metadata": {},
     "output_type": "execute_result"
    }
   ],
   "source": [
    "# Run circuit\n",
    "bkend = Aer.get_backend('qasm_simulator')\n",
    "shots = 1\n",
    "job = execute(qc_eo, bkend, shots=shots)\n",
    "counts = job.result().get_counts(qc_eo)\n",
    "plot_histogram(counts)"
   ]
  },
  {
   "cell_type": "code",
   "execution_count": 10,
   "metadata": {},
   "outputs": [
    {
     "name": "stdout",
     "output_type": "stream",
     "text": [
      "1\n",
      "odd\n"
     ]
    }
   ],
   "source": [
    "value_eo = max(counts, key=counts.get)\n",
    "print(value_eo)\n",
    "if value_eo == \"0\":\n",
    "    print(\"even\")\n",
    "else:\n",
    "    print(\"odd\")"
   ]
  },
  {
   "cell_type": "code",
   "execution_count": 5,
   "metadata": {},
   "outputs": [],
   "source": [
    "# end of program but begining of new thoughts "
   ]
  },
  {
   "cell_type": "code",
   "execution_count": 6,
   "metadata": {},
   "outputs": [],
   "source": [
    "# This is an illustration of a simple quantum algorithm and we can extended it  to \n",
    "# findout values in given binary string.  \n",
    "\n",
    "# The idea is to perform even/odd routine for all given N qubits and then perform same \n",
    "# routine for (N-1) LSB qubits. Based on two results, we can the value stored in MSB qubit   "
   ]
  },
  {
   "cell_type": "code",
   "execution_count": 7,
   "metadata": {},
   "outputs": [],
   "source": [
    "# Extend idea to represent filled /unfilled nodes in graph and possible/desired combinations, \n",
    "# we can use grover algorithm further to boost probability of desired outcome  "
   ]
  },
  {
   "cell_type": "code",
   "execution_count": null,
   "metadata": {},
   "outputs": [],
   "source": []
  }
 ],
 "metadata": {
  "kernelspec": {
   "display_name": "Python 3",
   "language": "python",
   "name": "python3"
  },
  "language_info": {
   "codemirror_mode": {
    "name": "ipython",
    "version": 3
   },
   "file_extension": ".py",
   "mimetype": "text/x-python",
   "name": "python",
   "nbconvert_exporter": "python",
   "pygments_lexer": "ipython3",
   "version": "3.8.5"
  }
 },
 "nbformat": 4,
 "nbformat_minor": 4
}
